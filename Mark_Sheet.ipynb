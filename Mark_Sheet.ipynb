{
  "nbformat": 4,
  "nbformat_minor": 0,
  "metadata": {
    "colab": {
      "provenance": []
    },
    "kernelspec": {
      "name": "python3",
      "display_name": "Python 3"
    },
    "language_info": {
      "name": "python"
    }
  },
  "cells": [
    {
      "cell_type": "markdown",
      "source": [
        "Total marks =600\n",
        "Calculate obtained marks and percentage of a student\n",
        "Use the following grading scale:\n",
        "A: 90-100\n",
        "B: 80-89\n",
        "C: 70-79\n",
        "D: 60-69\n",
        "F: Below 60"
      ],
      "metadata": {
        "id": "XpCvCznroNDQ"
      }
    },
    {
      "cell_type": "code",
      "execution_count": 22,
      "metadata": {
        "colab": {
          "base_uri": "https://localhost:8080/"
        },
        "id": "ErjNG-x6oIud",
        "outputId": "f5da1f99-1b37-41fc-9369-1f3def1ac997"
      },
      "outputs": [
        {
          "output_type": "stream",
          "name": "stdout",
          "text": [
            "Student Mark Sheet\n",
            "Enter the student name hammad\n",
            "==============================\n",
            "\n",
            "Enter English Marks 78\n",
            "Enter Urdu Marks 34\n",
            "Enter Maths Marks 90\n",
            "Enter Science Marks 98\n",
            "Enter Islamiat Marks 98\n",
            "Enter Computer Marks 45\n",
            "\n",
            "\n",
            "Good work! hammad achieved a C Grade\n",
            "\n",
            "\n",
            "hammad percenatge is 73.83333333333333\n"
          ]
        }
      ],
      "source": [
        "print(\"Student Mark Sheet\")\n",
        "name = input(\"Enter the student name \")\n",
        "print(\"==============================\\n\")\n",
        "\n",
        "\n",
        "Eng = int(input(\"Enter English Marks \"))\n",
        "Urdu = int(input(\"Enter Urdu Marks \"))\n",
        "Maths = int(input(\"Enter Maths Marks \"))\n",
        "Sci = int(input(\"Enter Science Marks \"))\n",
        "Isl = int(input(\"Enter Islamiat Marks \"))\n",
        "Comp = int(input(\"Enter Computer Marks \"))\n",
        "\n",
        "print(\"\\n\")\n",
        "\n",
        "\n",
        "Obtained_Marks = Eng + Urdu + Maths + Sci + Isl + Comp\n",
        "Total_Marks = 600\n",
        "\n",
        "Percentage = (Obtained_Marks / Total_Marks ) * 100\n",
        "\n",
        "\n",
        "if Percentage >= 90:\n",
        "  print(\"Congratulations! {} achieved an A Grade\".format(name))\n",
        "elif Percentage >= 80:\n",
        "  print(\"Great job! {} achieved a B Grade\".format(name))\n",
        "elif Percentage >= 70:\n",
        "  print(\"Good work! {} achieved a C Grade\".format(name))\n",
        "elif Percentage >= 60:\n",
        "  print(\"{} achieved a D Grade. There's room for improvement, keep trying\".format(name))\n",
        "else:\n",
        "  print(\"{} received an F Grade. Don't be discouraged; focus on your studies and you can improve\".format(name))\n",
        "\n",
        "print(\"\\n\")\n",
        "\n",
        "print(\"{} percenatge is {}\".format(name,Percentage))\n"
      ]
    },
    {
      "cell_type": "code",
      "source": [
        "\n"
      ],
      "metadata": {
        "id": "lP0oLcHNwdXg"
      },
      "execution_count": null,
      "outputs": []
    }
  ]
}